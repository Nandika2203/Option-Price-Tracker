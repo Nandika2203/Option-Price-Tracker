{
 "cells": [
  {
   "cell_type": "code",
   "execution_count": 1,
   "metadata": {},
   "outputs": [],
   "source": [
    "import pandas as pd\n",
    "import scipy.stats as stats\n",
    "from datetime import datetime , timedelta\n",
    "from scipy.stats import percentileofscore"
   ]
  },
  {
   "cell_type": "code",
   "execution_count": 2,
   "metadata": {},
   "outputs": [],
   "source": [
    "filepath = \"oldexpiries (1).csv\"\n",
    "dataset = pd.read_csv(filepath)"
   ]
  },
  {
   "cell_type": "code",
   "execution_count": 3,
   "metadata": {},
   "outputs": [],
   "source": [
    "def get_next_date_from_csv(filepath, input_date, idx):\n",
    "   dataset['expdt'] = pd.to_datetime(dataset['expdt']).dt.date\n",
    "   \n",
    "   dataset['expdt'] = pd.to_datetime(dataset['expdt'])\n",
    "   filtered_df = dataset[dataset['idx'] == idx]\n",
    "  \n",
    "   greater_dates = filtered_df[filtered_df['expdt'] > input_date]\n",
    "   if greater_dates.empty:\n",
    "    print(\"No greater dates found.\")\n",
    "    return None\n",
    "    \n",
    "   next_date = greater_dates['expdt'].min()\n",
    "    \n",
    "   return next_date\n",
    "\n",
    "def calculate_DTE(start_date, start_time, expiry_date):\n",
    "    # Combine start date and time into a datetime object\n",
    "    start_datetime = datetime.strptime(start_date + ' ' + start_time, '%Y-%m-%d %H:%M:%S')\n",
    "    \n",
    "    # Set expiry time to 15:30:00\n",
    "    expiry_time = '15:30:00'\n",
    "    \n",
    "    # Combine expiry date and time into a datetime object\n",
    "    expiry_datetime = datetime.strptime(expiry_date.strftime('%Y-%m-%d') + ' ' + expiry_time, '%Y-%m-%d %H:%M:%S')\n",
    "    # Calculate the difference in minutes between start datetime and expiry datetime\n",
    "    delta_minutes = (expiry_datetime - start_datetime).total_seconds() / 60\n",
    "    \n",
    "    return delta_minutes"
   ]
  },
  {
   "cell_type": "code",
   "execution_count": 4,
   "metadata": {},
   "outputs": [],
   "source": [
    "file_path = \"sorted_dataset.csv\"\n",
    "data = pd.read_csv(file_path)"
   ]
  },
  {
   "cell_type": "code",
   "execution_count": 5,
   "metadata": {},
   "outputs": [
    {
     "name": "stdout",
     "output_type": "stream",
     "text": [
      "    DTE   CE   PE  Total\n",
      "0  1441   66   63    129\n",
      "1  1441   73   60    133\n",
      "2  1441   70   81    151\n",
      "3  1441   78  108    186\n",
      "4  1441  129  119    248\n"
     ]
    }
   ],
   "source": [
    "\n",
    "print(data.head(5))\n"
   ]
  },
  {
   "cell_type": "code",
   "execution_count": 6,
   "metadata": {},
   "outputs": [
    {
     "name": "stdout",
     "output_type": "stream",
     "text": [
      "The expiry date 2022-01-07 for index NIFTY is: 2022-01-13\n",
      "The DTE value: 8820.0\n",
      "Average CE: 167.94736842105263\n",
      "Percentile of CE value 70.0: 2.6315789473684212%\n",
      "Option is unusually cheap\n",
      "Average PE: 158.71052631578948\n",
      "Percentile of PE value 80.0: 2.6315789473684212%\n",
      "Option is unusually cheap\n",
      "Average Total: 326.6578947368421\n",
      "Percentile of Total value 150.0: 2.6315789473684212%\n",
      "Option is unusually cheap\n"
     ]
    }
   ],
   "source": [
    "\n",
    "grouped = data.groupby('DTE').agg(\n",
    "    avg_CE=('CE', 'mean'),\n",
    "    std_CE=('CE', 'std')\n",
    ").reset_index()\n",
    "\n",
    "\n",
    "def calculate_percentile(dte, value, option_type):\n",
    "    dte_data = data[data['DTE'] == dte]\n",
    "    \n",
    "    if dte_data.empty:\n",
    "        print(f\"No data found for DTE: {dte}\")\n",
    "        return\n",
    "\n",
    "    if option_type == 'CE':\n",
    "        available_values = dte_data['CE']\n",
    "    elif option_type == 'PE':\n",
    "        available_values = dte_data['PE']\n",
    "    elif option_type == 'Total':\n",
    "        available_values = dte_data['Total']\n",
    "    else:\n",
    "        print(\"Invalid option type. Choose 'CE', 'PE', or 'Total'.\")\n",
    "        return\n",
    "\n",
    "    average_value = available_values.mean()\n",
    "    pricing = \"cheap\"\n",
    "    case1 = \"unusually\"\n",
    "    if value > average_value:\n",
    "        pricing = \"expensive\"\n",
    "\n",
    "    nearest_value = available_values.iloc[(available_values - value).abs().argsort()[:1]].values[0]\n",
    "    percentile_score = percentileofscore(available_values, nearest_value)\n",
    "    if 30 < percentile_score < 65:\n",
    "        case1 = \"normally\"\n",
    "\n",
    "    print(f\"Average {option_type}: {average_value}\")\n",
    "    print(f\"Percentile of {option_type} value {value}: {percentile_score}%\")\n",
    "    print(f\"Option is {case1} {pricing}\")\n",
    "\n",
    "\n",
    "input_date =  input(\"Enter the date (yyyy-mm-dd): \")\n",
    "time_str =  input(\"Enter the time (HH:MM:SS): \")\n",
    "index = input(\"Enter the index (e.g., NIFTY or BANKNIFTY): \")\n",
    "\n",
    "\n",
    "next_date = get_next_date_from_csv(file_path, input_date, index)\n",
    "\n",
    "if next_date is not None:\n",
    "    date_value = next_date.date()\n",
    "    DTE = calculate_DTE(input_date, time_str, date_value)\n",
    "    print(f\"The expiry date {input_date} for index {index} is: {date_value}\")\n",
    "    print(f\"The DTE value: {DTE}\")\n",
    "    \n",
    "    option_type1 = \"CE\" \n",
    "    option_value1 = float(input(\"Enter the CE Value: \")) \n",
    "    calculate_percentile(DTE, option_value1, option_type1)\n",
    "\n",
    "    option_type2 = \"PE\" \n",
    "    option_value2 = float(input(\"Enter the PE value: \")) \n",
    "    calculate_percentile(DTE, option_value2, option_type2)\n",
    "\n",
    "    option_type3 = \"Total\"\n",
    "    option_value3 = option_value1 + option_value2 \n",
    "    calculate_percentile(DTE, option_value3, option_type3)\n",
    "else:\n",
    "    print(\"No next date found.\")\n",
    "\n"
   ]
  }
 ],
 "metadata": {
  "kernelspec": {
   "display_name": "Python 3",
   "language": "python",
   "name": "python3"
  },
  "language_info": {
   "codemirror_mode": {
    "name": "ipython",
    "version": 3
   },
   "file_extension": ".py",
   "mimetype": "text/x-python",
   "name": "python",
   "nbconvert_exporter": "python",
   "pygments_lexer": "ipython3",
   "version": "3.10.7"
  }
 },
 "nbformat": 4,
 "nbformat_minor": 2
}
